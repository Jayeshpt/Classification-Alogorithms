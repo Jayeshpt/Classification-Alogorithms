{
 "cells": [
  {
   "cell_type": "markdown",
   "id": "ffa01b95-0f0e-41f8-a2ff-b4c58a713b8e",
   "metadata": {},
   "source": [
    "LOGISTC REGRESSION"
   ]
  },
  {
   "cell_type": "code",
   "execution_count": 12,
   "id": "6835d2db-fde9-49f0-b41e-d9c4ad8722f9",
   "metadata": {},
   "outputs": [],
   "source": [
    "import numpy  as np"
   ]
  },
  {
   "cell_type": "code",
   "execution_count": 13,
   "id": "218322ce-1c47-4f3f-8b4c-ce55eaec4380",
   "metadata": {
    "tags": []
   },
   "outputs": [],
   "source": [
    "class  LogisticRegression:\n",
    "    \n",
    "    def __init__(self , learning_rate =0.001 , num_iter = 1000 ) :\n",
    "        \n",
    "        self.learning_rate = learning_rate\n",
    "        self.num_iter = num_iter\n",
    "        self.wieghts = None\n",
    "        self.bias = None\n",
    "    def sigmoid(self , z ):\n",
    "        return 1/ (1+ np.exp(z))\n",
    "        \n",
    "    def fit(self , X,y ):\n",
    "        # n_samples , n_features = X.shape\n",
    "        self.wieghts = np.zeros(X.shape[1])\n",
    "        self.bias = 0\n",
    "        \n",
    "        for i in range(self.num_iter):\n",
    "            y_pred = self.sigmoid(np.dot(X , self.wieghts) + self.bias)\n",
    "            # Calculate the gradients\n",
    "            dw = (1 / X.shape[0]) * np.dot(X.T, (y_pred - y))\n",
    "            db = (1 / X.shape[0]) * np.sum(y_pred - y)\n",
    "            \n",
    "             # Update the weights and bias\n",
    "            self.wieghts  = self.wieghts -  self.learning_rate * dw\n",
    "            self.bias = self.bias -  self.learning_rate * db\n",
    "            \n",
    "    def predict(self,X):\n",
    "        # Calculate the predicted values\n",
    "        y_pred = self.sigmoid(np.dot(X, self.wieghts) + self.bias)\n",
    "        # Convert probabilities to binary predictions\n",
    "        lr_pred = [0 if y < 0.5 else 1 for y in y_pred]\n",
    "        return lr_pred\n",
    "        \n",
    "    "
   ]
  },
  {
   "cell_type": "code",
   "execution_count": 24,
   "id": "ee347ccd-0379-42b6-a405-ed65abd03735",
   "metadata": {},
   "outputs": [],
   "source": [
    "from sklearn.datasets import load_iris\n",
    "from sklearn.model_selection import train_test_split\n",
    "from sklearn.metrics import accuracy_score\n",
    "\n",
    "df = load_iris()\n",
    "X_train , X_test , y_train , y_test = train_test_split(df.data , df.target , test_size= 0.2, random_state=42)\n",
    "\n",
    "\n"
   ]
  },
  {
   "cell_type": "code",
   "execution_count": 25,
   "id": "3f9d40a9-fc1a-44ea-8417-85be49a3494c",
   "metadata": {},
   "outputs": [
    {
     "data": {
      "text/plain": [
       "0.3333333333333333"
      ]
     },
     "execution_count": 25,
     "metadata": {},
     "output_type": "execute_result"
    }
   ],
   "source": [
    "reg = LogisticRegression()\n",
    "\n",
    "reg.fit(X_train,y_train)\n",
    "\n",
    "y_pred = reg.predict(X_test)\n",
    "\n",
    "accuracy = accuracy_score(y_test,y_pred)\n",
    "accuracy"
   ]
  },
  {
   "cell_type": "code",
   "execution_count": null,
   "id": "e29bd57e-5668-41bd-8d89-25894e0cd476",
   "metadata": {},
   "outputs": [],
   "source": []
  }
 ],
 "metadata": {
  "kernelspec": {
   "display_name": "Python 3 (ipykernel)",
   "language": "python",
   "name": "python3"
  },
  "language_info": {
   "codemirror_mode": {
    "name": "ipython",
    "version": 3
   },
   "file_extension": ".py",
   "mimetype": "text/x-python",
   "name": "python",
   "nbconvert_exporter": "python",
   "pygments_lexer": "ipython3",
   "version": "3.9.13"
  }
 },
 "nbformat": 4,
 "nbformat_minor": 5
}
